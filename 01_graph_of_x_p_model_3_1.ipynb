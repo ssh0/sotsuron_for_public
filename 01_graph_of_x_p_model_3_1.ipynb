{
 "cells": [
  {
   "cell_type": "markdown",
   "metadata": {
    "internals": {
     "slide_helper": "subslide_end",
     "slide_type": "subslide"
    },
    "slide_helper": "slide_end",
    "slideshow": {
     "slide_type": "slide"
    }
   },
   "source": [
    "graph of $x$ - $p(x)$"
   ]
  },
  {
   "cell_type": "code",
   "execution_count": 1,
   "metadata": {
    "collapsed": false,
    "internals": {
     "slide_helper": "subslide_end",
     "slide_type": "subslide"
    },
    "slide_helper": "slide_end",
    "slideshow": {
     "slide_type": "subslide"
    }
   },
   "outputs": [
    {
     "data": {
      "image/png": "[encoded data removed]",
      "text/plain": [
       "<matplotlib.figure.Figure at 0x7f7f1df80310>"
      ]
     },
     "metadata": {},
     "output_type": "display_data"
    }
   ],
   "source": [
    "%matplotlib inline\n",
    "import matplotlib.pyplot as plt\n",
    "from IPython.html.widgets import interactive\n",
    "from IPython.display import display\n",
    "import numpy as np\n",
    "\n",
    "def plot_p(r=0.1):\n",
    "    plt.figure(figsize=(10, 8))\n",
    "    x = np.array([0, min(r, 1 - r), max(1 - r, r), 1])\n",
    "    y = np.array([r, min(2 * r, 1), min(2 * r, 1), r])\n",
    "    plt.plot(x, y)\n",
    "    _x = [-0.1, 1.1]\n",
    "    _y = [1, 1]\n",
    "    plt.plot(_x, _y, '--d')\n",
    "    plt.xlabel(r'$x$')\n",
    "    plt.ylabel(r'$p(x)$')\n",
    "    plt.title(r'graph of $x$ - $p(x)$ when $r=%1.2f$' % r)\n",
    "    plt.xlim(0, 1)\n",
    "    plt.ylim(0, 1.2)\n",
    "    plt.show()\n",
    "\n",
    "w = interactive(plot_p, r=(0.01, 1., 0.01))\n",
    "display(w)"
   ]
  }
 ],
 "metadata": {
  "kernelspec": {
   "display_name": "Python 2",
   "language": "python",
   "name": "python2"
  },
  "language_info": {
   "codemirror_mode": {
    "name": "ipython",
    "version": 2
   },
   "file_extension": ".py",
   "mimetype": "text/x-python",
   "name": "python",
   "nbconvert_exporter": "python",
   "pygments_lexer": "ipython2",
   "version": "2.7.6"
  }
 },
 "nbformat": 4,
 "nbformat_minor": 0
}
